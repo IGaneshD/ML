{
 "cells": [
  {
   "cell_type": "markdown",
   "metadata": {},
   "source": [
    "### Example 1: Calculating the Total Cost of Shopping Cart"
   ]
  },
  {
   "cell_type": "code",
   "execution_count": 1,
   "metadata": {},
   "outputs": [
    {
     "name": "stdout",
     "output_type": "stream",
     "text": [
      "32.8\n"
     ]
    }
   ],
   "source": [
    "## \n",
    "\n",
    "def calculate_shopping_cart_total(cart):\n",
    "    \"\"\" This function calculates the shopping cart total value \"\"\"\n",
    "    \n",
    "    total = 0\n",
    "    \n",
    "    for item in cart:\n",
    "        total += item['price']*item['quantity']\n",
    "             \n",
    "    return total\n",
    "\n",
    "\n",
    "cart = [\n",
    "    {\"Name\":'Avacado', \"price\":1, \"quantity\":13},\n",
    "    \n",
    "    {'name':'Banana', 'price':1.3, 'quantity':6},\n",
    "    \n",
    "    {'name':'Mango', 'price':2, 'quantity':6},\n",
    "]\n",
    "\n",
    "# calling the function\n",
    "total_cost = calculate_shopping_cart_total(cart)\n",
    "\n",
    "print(total_cost)\n"
   ]
  },
  {
   "cell_type": "markdown",
   "metadata": {},
   "source": [
    "### Example 2: Password Strength Checker"
   ]
  },
  {
   "cell_type": "code",
   "execution_count": 4,
   "metadata": {},
   "outputs": [
    {
     "name": "stdout",
     "output_type": "stream",
     "text": [
      "False\n",
      "False\n",
      "True\n"
     ]
    }
   ],
   "source": [
    "# defining function to check password strength\n",
    "def password_checker(password:str):\n",
    "    if len(password)<8:\n",
    "        return False\n",
    "    if not any(chr.isdigit() for chr in password):\n",
    "        return False\n",
    "    if not any(chr.islower() for chr in password):\n",
    "        return False\n",
    "    if not any(chr.isupper() for chr in password):\n",
    "        return False\n",
    "    if not any(chr in \"!@#$%^&\" for chr in password):\n",
    "        return False\n",
    "    \n",
    "    return True\n",
    "\n",
    "\n",
    "#Calling the Function \n",
    "print(password_checker(\"Hello\"))\n",
    "print(password_checker(\"ABId@tuk\"))\n",
    "print(password_checker(\"Ga@29shs\"))"
   ]
  },
  {
   "cell_type": "markdown",
   "metadata": {},
   "source": [
    "### Example 3: Check if string is a Palindrome"
   ]
  },
  {
   "cell_type": "code",
   "execution_count": 2,
   "metadata": {},
   "outputs": [
    {
     "name": "stdout",
     "output_type": "stream",
     "text": [
      "True\n",
      "False\n"
     ]
    }
   ],
   "source": [
    "# defining Function\n",
    "def check_palindrome(string):\n",
    "    s = string.lower() # palindrome string is not case sensitive\n",
    "    s = s.strip() # removing trailing whitespaces\n",
    "    return s==s[::-1]\n",
    "\n",
    "\n",
    "# calling the function\n",
    "\n",
    "print(check_palindrome(\"Madam\")) # True\n",
    "print(check_palindrome(\"hi\")) # False\n"
   ]
  }
 ],
 "metadata": {
  "kernelspec": {
   "display_name": "Python 3",
   "language": "python",
   "name": "python3"
  },
  "language_info": {
   "codemirror_mode": {
    "name": "ipython",
    "version": 3
   },
   "file_extension": ".py",
   "mimetype": "text/x-python",
   "name": "python",
   "nbconvert_exporter": "python",
   "pygments_lexer": "ipython3",
   "version": "3.12.0"
  }
 },
 "nbformat": 4,
 "nbformat_minor": 2
}
