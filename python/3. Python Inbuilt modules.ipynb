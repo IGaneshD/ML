{
 "cells": [
  {
   "cell_type": "markdown",
   "metadata": {},
   "source": [
    "# Inbuilt Modules in Python"
   ]
  },
  {
   "cell_type": "markdown",
   "metadata": {},
   "source": [
    "### json module"
   ]
  },
  {
   "cell_type": "code",
   "execution_count": 2,
   "metadata": {},
   "outputs": [
    {
     "name": "stdout",
     "output_type": "stream",
     "text": [
      "<class 'dict'>\n",
      "serialized_data  {\"name\": \"Ganesh\", \"age\": 23}\n",
      "<class 'str'>\n",
      "parsed_data  {'name': 'Ganesh', 'age': 23}\n",
      "<class 'dict'>\n"
     ]
    }
   ],
   "source": [
    "# json module used to data serialization\n",
    "import json\n",
    "\n",
    "data = {\n",
    "    \"name\":\"Ganesh\",\n",
    "    \"age\": 23\n",
    "}\n",
    "print(type(data))\n",
    "\n",
    "# serializing the data\n",
    "json_data = json.dumps(data)\n",
    "print(\"serialized_data \",json_data)\n",
    "print(type(json_data))\n",
    "\n",
    "# parsing the serialized data\n",
    "parsed_data = json.loads(json_data)\n",
    "print(\"parsed_data \", parsed_data)\n",
    "print(type(parsed_data))"
   ]
  }
 ],
 "metadata": {
  "kernelspec": {
   "display_name": "Python 3",
   "language": "python",
   "name": "python3"
  },
  "language_info": {
   "codemirror_mode": {
    "name": "ipython",
    "version": 3
   },
   "file_extension": ".py",
   "mimetype": "text/x-python",
   "name": "python",
   "nbconvert_exporter": "python",
   "pygments_lexer": "ipython3",
   "version": "3.12.0"
  }
 },
 "nbformat": 4,
 "nbformat_minor": 2
}
