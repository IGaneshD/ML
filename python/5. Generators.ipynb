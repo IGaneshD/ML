{
 "cells": [
  {
   "cell_type": "markdown",
   "metadata": {},
   "source": [
    "### Practical Example of Generators"
   ]
  },
  {
   "cell_type": "code",
   "execution_count": 1,
   "metadata": {},
   "outputs": [],
   "source": [
    "# Reading a LARGE File\n",
    "\n",
    "def read_large_file(file_path):\n",
    "    with open(file_path, 'r') as file:\n",
    "        for line in file:\n",
    "            yield line\n"
   ]
  },
  {
   "cell_type": "code",
   "execution_count": 3,
   "metadata": {},
   "outputs": [
    {
     "name": "stdout",
     "output_type": "stream",
     "text": [
      "Narendra Modi, the 14th Prime Minister of India,\n",
      "is a prominent figure in Indian politics known for his dynamic leadership and transformative policies.\n",
      "Born on September 17, 1950, in Vadnagar, Gujarat, Modi rose from humble beginnings,\n",
      "having worked as a tea seller during his childhood, to becoming\n",
      "one of the most influential leaders in the world.\n",
      "His journey in politics began with the Rashtriya Swayamsevak Sangh (RSS) and\n",
      "later transitioned into a significant role within the Bharatiya Janata Party (BJP).\n",
      "Modi's tenure as Chief Minister of Gujarat from 2001 to 2014 was marked by economic growth and infrastructure development, although it was also marred by controversy, particularly surrounding the 2002 Gujarat riots.\n",
      "\n",
      "As Prime Minister, Modi has launched several ambitious initiatives aimed at transforming India’s socio-economic landscape. His government has focused on improving infrastructure, promoting digitalization through the \"Digital India\" campaign,\n",
      "and boosting manufacturing with the \"Make in India\" initiative.\n",
      "Modi's leadership during the COVID-19 pandemic, as well as his efforts to enhance India’s global stature, have been defining aspects of his second term.\n",
      "Despite facing criticism on various fronts, including issues related to human rights and the handling of the economy, Modi remains a highly popular and influential leader, with a significant impact on India’s political and economic trajectory.\n"
     ]
    }
   ],
   "source": [
    "file_path = \"5.1 LargeFile.txt\"\n",
    "for line in read_large_file(file_path):\n",
    "    print(line.strip())"
   ]
  }
 ],
 "metadata": {
  "kernelspec": {
   "display_name": "Python 3",
   "language": "python",
   "name": "python3"
  },
  "language_info": {
   "codemirror_mode": {
    "name": "ipython",
    "version": 3
   },
   "file_extension": ".py",
   "mimetype": "text/x-python",
   "name": "python",
   "nbconvert_exporter": "python",
   "pygments_lexer": "ipython3",
   "version": "3.12.0"
  }
 },
 "nbformat": 4,
 "nbformat_minor": 2
}
