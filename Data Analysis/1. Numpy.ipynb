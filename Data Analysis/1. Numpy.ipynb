{
 "cells": [
  {
   "cell_type": "markdown",
   "metadata": {},
   "source": [
    "# Numpy\n",
    "In Python we have lists that serve the purpose of arrays, but they are slow to process.\n",
    "\n",
    "NumPy aims to provide an array object that is up to 50x faster than traditional Python lists.\n",
    "\n",
    "The array object in NumPy is called ndarray, it provides a lot of supporting functions that make working with ndarray very easy.\n",
    "\n",
    "Arrays are very frequently used in data science, where speed and resources are very important."
   ]
  },
  {
   "cell_type": "markdown",
   "metadata": {},
   "source": [
    "### Import numpy"
   ]
  },
  {
   "cell_type": "code",
   "execution_count": 3,
   "metadata": {},
   "outputs": [],
   "source": [
    "# import numpy\n",
    "import numpy as np"
   ]
  },
  {
   "cell_type": "markdown",
   "metadata": {},
   "source": [
    "### Creating Numpy Array"
   ]
  },
  {
   "cell_type": "code",
   "execution_count": 2,
   "metadata": {},
   "outputs": [
    {
     "name": "stdout",
     "output_type": "stream",
     "text": [
      "[ 2  3  5  7 11 13]\n",
      "<class 'numpy.ndarray'>\n",
      "(6,)\n",
      "6\n"
     ]
    }
   ],
   "source": [
    "#create a 1D array\n",
    "array1 = np.array([2, 3, 5, 7, 11, 13])\n",
    "#print array\n",
    "print(array1)\n",
    "#printing type of array\n",
    "print(type(array1))\n",
    "#printing shape of array\n",
    "print(array1.shape)\n",
    "#print number of elements in array1\n",
    "print(array1.size)"
   ]
  },
  {
   "cell_type": "markdown",
   "metadata": {},
   "source": [
    "### 2-D Array"
   ]
  },
  {
   "cell_type": "code",
   "execution_count": 59,
   "metadata": {},
   "outputs": [
    {
     "name": "stdout",
     "output_type": "stream",
     "text": [
      "[[                 1                  2                  3\n",
      "                   4                  5]\n",
      " [                 6                  7                  8\n",
      "                   9 101234830458123341]]\n",
      "(2, 5)\n",
      "10\n",
      "<class 'numpy.ndarray'>\n",
      "[[                 1                  2]\n",
      " [                 3                  4]\n",
      " [                 5                  6]\n",
      " [                 7                  8]\n",
      " [                 9 101234830458123341]]\n",
      "int64\n"
     ]
    }
   ],
   "source": [
    "# creating 2 dimensional Array with shape (2,5)\n",
    "array2 = np.array([[1,2,3,4,5],[6,7,8,9,101234830458123341]], dtype=np.int64)\n",
    "\n",
    "#printing array\n",
    "print(array2)\n",
    "\n",
    "# shape of array\n",
    "print(array2.shape)\n",
    "\n",
    "# size of array -> total elements\n",
    "print(array2.size)\n",
    "\n",
    "# printing type of array\n",
    "print(type(array2))\n",
    "\n",
    "# reshape the array in 5 rows and 2 columns\n",
    "print(array2.reshape(5,2))\n",
    "\n",
    "# print dtype of array\n",
    "print(array2.dtype)\n"
   ]
  },
  {
   "cell_type": "markdown",
   "metadata": {},
   "source": [
    "### 3-D Array"
   ]
  },
  {
   "cell_type": "code",
   "execution_count": 57,
   "metadata": {},
   "outputs": [
    {
     "name": "stdout",
     "output_type": "stream",
     "text": [
      "(2, 2, 3)\n",
      "3\n",
      "12\n",
      "int32\n"
     ]
    }
   ],
   "source": [
    "# creating 3-D array\n",
    "\n",
    "array3 = np.array([\n",
    "        [\n",
    "                [1,2,3],\n",
    "                [4,5,6]\n",
    "        ],\n",
    "        [\n",
    "                [7,8,9],\n",
    "                [10,11,12]\n",
    "        ]\n",
    "], dtype=np.int32)\n",
    "\n",
    "# print shape of array\n",
    "print(array3.shape)\n",
    "\n",
    "\n",
    "# print dimensions of array\n",
    "print(array3.ndim)\n",
    "\n",
    "# print size of array\n",
    "print(array3.size)\n",
    "\n",
    "# print data type of arrayh\n",
    "print(array3.dtype)\n"
   ]
  },
  {
   "cell_type": "markdown",
   "metadata": {},
   "source": [
    "### ndarray.ndim\n",
    "the number of axes (dimensions) of the array\n",
    "\n"
   ]
  },
  {
   "cell_type": "code",
   "execution_count": 7,
   "metadata": {},
   "outputs": [
    {
     "data": {
      "text/plain": [
       "3"
      ]
     },
     "execution_count": 7,
     "metadata": {},
     "output_type": "execute_result"
    }
   ],
   "source": [
    "array3.ndim"
   ]
  },
  {
   "cell_type": "markdown",
   "metadata": {},
   "source": [
    "### ndarray.shape\n",
    "the dimensions of the array.\n",
    "For a matrix with n rows and m columns, shape will be `(n,m)`.\n",
    "The length of this tuple will be same as a the number of dimensions"
   ]
  },
  {
   "cell_type": "code",
   "execution_count": 8,
   "metadata": {},
   "outputs": [
    {
     "data": {
      "text/plain": [
       "(2, 2, 3)"
      ]
     },
     "execution_count": 8,
     "metadata": {},
     "output_type": "execute_result"
    }
   ],
   "source": [
    "array3.shape"
   ]
  },
  {
   "cell_type": "markdown",
   "metadata": {},
   "source": [
    "### ndarray.size\n",
    "the total number of elements of the array. This is equal to the product of the elements of shape."
   ]
  },
  {
   "cell_type": "code",
   "execution_count": 10,
   "metadata": {},
   "outputs": [
    {
     "name": "stdout",
     "output_type": "stream",
     "text": [
      "10\n",
      "12\n"
     ]
    }
   ],
   "source": [
    "print(array2.size) # number of elements in array2 i.e 2*5 = 10\n",
    "print(array3.size) # number of elements in array3 i.e 2*2*3 = 12\n"
   ]
  },
  {
   "cell_type": "markdown",
   "metadata": {},
   "source": [
    "### ndarray.dtype\n",
    "an object describing the type of the elements in the array."
   ]
  },
  {
   "cell_type": "code",
   "execution_count": 61,
   "metadata": {},
   "outputs": [
    {
     "name": "stdout",
     "output_type": "stream",
     "text": [
      "int32\n",
      "int64\n"
     ]
    }
   ],
   "source": [
    "print(array3.dtype) # will print int8\n",
    "print(array2.dtype) # will print int64"
   ]
  },
  {
   "cell_type": "markdown",
   "metadata": {},
   "source": [
    "### ndarray.itemsize\n",
    "the size in bytes of each element of the array. For example, an array of elements of type `float64` has itemsize `8 (=64/8)`, while one of type complex32 has itemsize `4 (=32/8)`."
   ]
  },
  {
   "cell_type": "code",
   "execution_count": 65,
   "metadata": {},
   "outputs": [
    {
     "name": "stdout",
     "output_type": "stream",
     "text": [
      "4\n",
      "8\n"
     ]
    }
   ],
   "source": [
    "print(array3.itemsize) # 4 (=32/8)\n",
    "print(array2.itemsize) # 8 (=64/8)"
   ]
  },
  {
   "cell_type": "code",
   "execution_count": 87,
   "metadata": {},
   "outputs": [
    {
     "data": {
      "text/plain": [
       "array([1, 1, 1, 1, 1, 1, 1, 1, 1, 1, 1, 1], dtype=int8)"
      ]
     },
     "execution_count": 87,
     "metadata": {},
     "output_type": "execute_result"
    }
   ],
   "source": [
    "array5 = np.arange(10, step=0.1) \n",
    "array5.reshape(10,10)\n",
    "np.zeros(45)\n",
    "np.ones(12, dtype=np.int8)\n"
   ]
  },
  {
   "cell_type": "markdown",
   "metadata": {},
   "source": [
    "### Universal Functions"
   ]
  },
  {
   "cell_type": "code",
   "execution_count": 78,
   "metadata": {},
   "outputs": [
    {
     "name": "stdout",
     "output_type": "stream",
     "text": [
      "sin\t [ 0.84147098  0.90929743  0.14112001 -0.7568025  -0.95892427]\n",
      "cos\t [ 0.54030231 -0.41614684 -0.9899925  -0.65364362  0.28366219]\n",
      "log\t [0.         0.69314718 1.09861229 1.38629436 1.60943791]\n",
      "Variance\t 2.0\n",
      "SD\t 1.4142135623730951\n",
      "Sum\t 15\n",
      "multiply by a number\t [ 5 10 15 20 25]\n"
     ]
    }
   ],
   "source": [
    "# creating an array\n",
    "array = np.array([1,2,3,4,5])\n",
    "\n",
    "# sin function\n",
    "print(\"sin\\t\", np.sin(array))\n",
    "\n",
    "# cos function\n",
    "print(\"cos\\t\", np.cos(array))\n",
    "\n",
    "# using natural log\n",
    "print(\"log\\t\", np.log(array))\n",
    "\n",
    "# variance \n",
    "print(\"Variance\\t\", np.var(array))\n",
    "\n",
    "# standard deviation\n",
    "print(\"SD\\t\",np.std(array))\n",
    "\n",
    "\n",
    "\n",
    "# sum of array\n",
    "print(\"Sum\\t\", np.sum(array))\n",
    "\n",
    "\n",
    "# multiply by a number\n",
    "print(\"multiply by a number\\t\",np.multiply(array, 5))"
   ]
  },
  {
   "cell_type": "markdown",
   "metadata": {},
   "source": [
    "### Vector Operations"
   ]
  },
  {
   "cell_type": "code",
   "execution_count": 22,
   "metadata": {},
   "outputs": [
    {
     "name": "stdout",
     "output_type": "stream",
     "text": [
      "[39 51 59 39 52]\n",
      "[ -7 -19 -11  -9 -30]\n",
      "[368 560 840 360 451]\n",
      "[0.69565217 0.45714286 0.68571429 0.625      0.26829268]\n",
      "[1 2 1 1 3]\n"
     ]
    }
   ],
   "source": [
    "# creating two array\n",
    "array1 = np.random.randint(10, 25, 5)\n",
    "\n",
    "array2 = np.random.randint(23,45,5)\n",
    "\n",
    "# addition of arrays\n",
    "print(array1+array2)\n",
    "\n",
    "\n",
    "# subtraction \n",
    "print(array1-array2)\n",
    "\n",
    "# multiplication\n",
    "print(array1*array2)\n",
    "\n",
    "# division\n",
    "print(array1/array2)\n",
    "\n",
    "# floor division\n",
    "print(array2//array1)\n"
   ]
  },
  {
   "cell_type": "markdown",
   "metadata": {},
   "source": [
    "### Array Creation Methods"
   ]
  },
  {
   "cell_type": "code",
   "execution_count": 92,
   "metadata": {},
   "outputs": [
    {
     "name": "stdout",
     "output_type": "stream",
     "text": [
      "ones\t [[1. 1. 1. 1. 1.]\n",
      " [1. 1. 1. 1. 1.]\n",
      " [1. 1. 1. 1. 1.]]\n",
      "zeros\t [0. 0.]\n",
      "empty \t [0.69314718 1.09861229 1.38629436 1.60943791]\n",
      "arange\t [ 2  3  4  5  6  7  8  9 10 11 12 13 14 15 16 17 18 19 20 21]\n",
      "linspace\t [0.     0.5557 1.111  1.667  2.223  2.777  3.334  3.889  4.445  5.    ]\n"
     ]
    }
   ],
   "source": [
    "# np.ones((shape), dtype)\n",
    "a = np.ones((3,5))\n",
    "print(\"ones\\t\",a)\n",
    "\n",
    "# np.zeros((shape), dtype)\n",
    "b = np.zeros((2))\n",
    "print(\"zeros\\t\",b)\n",
    "\n",
    "# np.empty((shape), dtype) --> creates an uninitialized array\n",
    "f = np.empty((2,2))\n",
    "print(\"empty \\t\",f.flatten()) # flattening the array\n",
    "\n",
    "# np.arange(start, stop, step) --> gives samples between given interval\n",
    "d = np.arange(2,22)\n",
    "print(\"arange\\t\",d)\n",
    "\n",
    "# np.linspace(start, stop, number) --> returns uniform samples of size number include stop , default number is 50\n",
    "e = np.linspace(0,5,10,dtype=np.float16)\n",
    "print(\"linspace\\t\",e)"
   ]
  },
  {
   "cell_type": "markdown",
   "metadata": {},
   "source": [
    "### Indexing"
   ]
  },
  {
   "cell_type": "code",
   "execution_count": 13,
   "metadata": {},
   "outputs": [
    {
     "name": "stdout",
     "output_type": "stream",
     "text": [
      "[[36 42 45 40 48]\n",
      " [ 1 10 47 10 42]\n",
      " [ 5 18 41 48 35]\n",
      " [ 4 40 43 46 43]]\n",
      "[[[ 8 33]\n",
      "  [35 46]\n",
      "  [43 22]\n",
      "  [25 24]]\n",
      "\n",
      " [[ 8 48]\n",
      "  [30 29]\n",
      "  [14 16]\n",
      "  [49 43]]]\n"
     ]
    }
   ],
   "source": [
    "# Given Array\n",
    "array = np.random.randint(1, 50,(4,5))\n",
    "print(array)\n",
    "\n",
    "# creating 3D array\n",
    "array3d = np.random.randint(1, 50,(2,4,2))\n",
    "print(array3d)"
   ]
  },
  {
   "cell_type": "code",
   "execution_count": 29,
   "metadata": {},
   "outputs": [
    {
     "name": "stdout",
     "output_type": "stream",
     "text": [
      "array[0][2]\t\t= 45\n",
      "array[0,2]\t\t= 45\n",
      "array3d[0][2][1]\t= 22\n",
      "array3d[0,2,1]\t\t= 22\n"
     ]
    }
   ],
   "source": [
    "# accessing 1st row 3rd column\n",
    "print(\"array[0][2]\\t\\t=\", array[0][2])\n",
    "\n",
    "# same can be done as follows\n",
    "print(\"array[0,2]\\t\\t=\", array[0,2])\n",
    "\n",
    "# accessing 2nd element from 3rd item of 1st row (in 3D array)\n",
    "print(\"array3d[0][2][1]\\t=\",array3d[0][2][1])\n",
    "\n",
    "# accessing 2nd element from 3rd item of 1st row (in 3D array)\n",
    "print(\"array3d[0,2,1]\\t\\t=\",array3d[0,2,1])"
   ]
  },
  {
   "cell_type": "markdown",
   "metadata": {},
   "source": [
    "### Slicing"
   ]
  },
  {
   "cell_type": "code",
   "execution_count": 27,
   "metadata": {},
   "outputs": [
    {
     "name": "stdout",
     "output_type": "stream",
     "text": [
      "array\n",
      " [[19 41 31 13 28]\n",
      " [25 43 33 15 30]\n",
      " [25 13 28 29 36]\n",
      " [15 27 27 17 33]]\n"
     ]
    }
   ],
   "source": [
    "array = np.random.randint(10,50, (4,5))\n",
    "print(\"array\\n\", array)"
   ]
  },
  {
   "cell_type": "code",
   "execution_count": 28,
   "metadata": {},
   "outputs": [
    {
     "name": "stdout",
     "output_type": "stream",
     "text": [
      "[[25 43 33 15 30]]\n",
      "\n",
      "[[25 43 33 15 30]\n",
      " [25 13 28 29 36]\n",
      " [15 27 27 17 33]]\n",
      "\n",
      "[[19 41 31 13 28]\n",
      " [25 13 28 29 36]]\n",
      "\n"
     ]
    }
   ],
   "source": [
    "# accessing second row from array \n",
    "print(array[1:2], end=\"\\n\\n\")\n",
    "\n",
    "# accessing all row from second row\n",
    "print(array[1:], end=\"\\n\\n\")\n",
    "\n",
    "# slicing alternate rows starting from 1st row\n",
    "print(array[0::2],end=\"\\n\\n\")"
   ]
  },
  {
   "cell_type": "code",
   "execution_count": 29,
   "metadata": {},
   "outputs": [
    {
     "name": "stdout",
     "output_type": "stream",
     "text": [
      "[[28]\n",
      " [30]\n",
      " [36]\n",
      " [33]]\n",
      "\n",
      "[[19 41]\n",
      " [25 43]]\n",
      "\n"
     ]
    }
   ],
   "source": [
    "# slicing only last column from each row\n",
    "print(array[:,-1:], end=\"\\n\\n\")\n",
    "\n",
    "# slicing first two columns of 1st and 2nd row\n",
    "print(array[:2,:2], end=\"\\n\\n\")"
   ]
  },
  {
   "cell_type": "code",
   "execution_count": null,
   "metadata": {},
   "outputs": [],
   "source": []
  },
  {
   "cell_type": "code",
   "execution_count": 43,
   "metadata": {},
   "outputs": [
    {
     "name": "stdout",
     "output_type": "stream",
     "text": [
      "[[19 31 28]\n",
      " [25 33 30]\n",
      " [25 28 36]\n",
      " [15 27 33]]\n",
      "\n",
      "[19 41 28]\n",
      "\n",
      "[[25 43 33 15 30]\n",
      " [15 27 27 17 33]]\n"
     ]
    }
   ],
   "source": [
    "# slicing alternate elemtns from each row\n",
    "print(array[:,::2], end=\"\\n\\n\")\n",
    "\n",
    "# slicing specific columns of a row\n",
    "# slice 1st, 2nd and 5th element\n",
    "print(array[0, [0,1,4]], end=\"\\n\\n\")\n",
    "\n",
    "# slcing specific rows \n",
    "# slice 2nd and 4th row\n",
    "print(array[[1,3]])"
   ]
  },
  {
   "cell_type": "markdown",
   "metadata": {},
   "source": [
    "### Filter array based on Conditions"
   ]
  },
  {
   "cell_type": "code",
   "execution_count": 54,
   "metadata": {},
   "outputs": [
    {
     "data": {
      "text/plain": [
       "array([ 2,  3,  4,  5,  6,  7,  8,  9, 10, 11, 12, 13, 14, 15, 16, 17, 18,\n",
       "       19], dtype=int16)"
      ]
     },
     "execution_count": 54,
     "metadata": {},
     "output_type": "execute_result"
    }
   ],
   "source": [
    "array = np.arange(2,20,dtype=np.int16)\n",
    "array"
   ]
  },
  {
   "cell_type": "code",
   "execution_count": 48,
   "metadata": {},
   "outputs": [
    {
     "name": "stdout",
     "output_type": "stream",
     "text": [
      "[False False False False False False False  True  True  True  True  True\n",
      "  True  True  True  True  True  True]\n"
     ]
    }
   ],
   "source": [
    "# Test whether array elements are greater than 8 \n",
    "# This is done element-wise\n",
    "# It returns the list of Boolean element-wise\n",
    "print(array > 8)"
   ]
  },
  {
   "cell_type": "code",
   "execution_count": 50,
   "metadata": {},
   "outputs": [
    {
     "data": {
      "text/plain": [
       "array([ 9, 10, 11, 12, 13, 14, 15, 16, 17, 18, 19], dtype=int16)"
      ]
     },
     "execution_count": 50,
     "metadata": {},
     "output_type": "execute_result"
    }
   ],
   "source": [
    "# Get the list of elements greater than 8\n",
    "array[array>8]"
   ]
  },
  {
   "cell_type": "code",
   "execution_count": 55,
   "metadata": {},
   "outputs": [
    {
     "data": {
      "text/plain": [
       "array([ 2,  4,  6,  8, 10, 12, 14, 16, 18], dtype=int16)"
      ]
     },
     "execution_count": 55,
     "metadata": {},
     "output_type": "execute_result"
    }
   ],
   "source": [
    "# Get the list of even numbers\n",
    "array[array%2==0]"
   ]
  },
  {
   "cell_type": "code",
   "execution_count": 70,
   "metadata": {},
   "outputs": [
    {
     "data": {
      "text/plain": [
       "array([10, 12, 14, 16, 18], dtype=int16)"
      ]
     },
     "execution_count": 70,
     "metadata": {},
     "output_type": "execute_result"
    }
   ],
   "source": [
    "# Get the list of even number greater than 8\n",
    "array[(array%2==0) & (array>8)]"
   ]
  },
  {
   "cell_type": "code",
   "execution_count": 86,
   "metadata": {},
   "outputs": [
    {
     "name": "stdout",
     "output_type": "stream",
     "text": [
      "[ 2  3  4  5  6  7  8  9 10 11 12 13 14 15 16 17 18 19]\n",
      "[2 0 1 2 0 1 2 0 1 2 0 1 2 0 1 2 0 1]\n"
     ]
    },
    {
     "data": {
      "text/plain": [
       "array([4, 2, 3, 4, 2, 3, 4, 2, 3, 4, 2, 3, 4, 2, 3, 4, 2, 3], dtype=int16)"
      ]
     },
     "execution_count": 86,
     "metadata": {},
     "output_type": "execute_result"
    }
   ],
   "source": [
    "# Get the list of numbers which are either divided by 3 or greater than 5\n",
    "print(array)\n",
    "print(array%3)\n",
    "array[array%3]"
   ]
  },
  {
   "cell_type": "code",
   "execution_count": 78,
   "metadata": {},
   "outputs": [],
   "source": [
    "# if we use any(), all() it will return single value"
   ]
  }
 ],
 "metadata": {
  "kernelspec": {
   "display_name": "Python 3",
   "language": "python",
   "name": "python3"
  },
  "language_info": {
   "codemirror_mode": {
    "name": "ipython",
    "version": 3
   },
   "file_extension": ".py",
   "mimetype": "text/x-python",
   "name": "python",
   "nbconvert_exporter": "python",
   "pygments_lexer": "ipython3",
   "version": "3.12.0"
  }
 },
 "nbformat": 4,
 "nbformat_minor": 2
}
