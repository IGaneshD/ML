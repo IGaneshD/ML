{
 "cells": [
  {
   "cell_type": "markdown",
   "metadata": {},
   "source": [
    "# Numpy\n",
    "In Python we have lists that serve the purpose of arrays, but they are slow to process.\n",
    "\n",
    "NumPy aims to provide an array object that is up to 50x faster than traditional Python lists.\n",
    "\n",
    "The array object in NumPy is called ndarray, it provides a lot of supporting functions that make working with ndarray very easy.\n",
    "\n",
    "Arrays are very frequently used in data science, where speed and resources are very important."
   ]
  },
  {
   "cell_type": "markdown",
   "metadata": {},
   "source": [
    "### Import numpy"
   ]
  },
  {
   "cell_type": "code",
   "execution_count": 1,
   "metadata": {},
   "outputs": [],
   "source": [
    "# import numpy\n",
    "import numpy as np"
   ]
  },
  {
   "cell_type": "markdown",
   "metadata": {},
   "source": [
    "### Creating Numpy Array"
   ]
  },
  {
   "cell_type": "code",
   "execution_count": 2,
   "metadata": {},
   "outputs": [
    {
     "name": "stdout",
     "output_type": "stream",
     "text": [
      "[ 2  3  5  7 11 13]\n",
      "<class 'numpy.ndarray'>\n",
      "(6,)\n",
      "6\n"
     ]
    }
   ],
   "source": [
    "#create a 1D array\n",
    "array1 = np.array([2, 3, 5, 7, 11, 13])\n",
    "#print array\n",
    "print(array1)\n",
    "#printing type of array\n",
    "print(type(array1))\n",
    "#printing shape of array\n",
    "print(array1.shape)\n",
    "#print number of elements in array1\n",
    "print(array1.size)"
   ]
  },
  {
   "cell_type": "markdown",
   "metadata": {},
   "source": [
    "### 2-D Array"
   ]
  },
  {
   "cell_type": "code",
   "execution_count": 59,
   "metadata": {},
   "outputs": [
    {
     "name": "stdout",
     "output_type": "stream",
     "text": [
      "[[                 1                  2                  3\n",
      "                   4                  5]\n",
      " [                 6                  7                  8\n",
      "                   9 101234830458123341]]\n",
      "(2, 5)\n",
      "10\n",
      "<class 'numpy.ndarray'>\n",
      "[[                 1                  2]\n",
      " [                 3                  4]\n",
      " [                 5                  6]\n",
      " [                 7                  8]\n",
      " [                 9 101234830458123341]]\n",
      "int64\n"
     ]
    }
   ],
   "source": [
    "# creating 2 dimensional Array with shape (2,5)\n",
    "array2 = np.array([[1,2,3,4,5],[6,7,8,9,101234830458123341]], dtype=np.int64)\n",
    "\n",
    "#printing array\n",
    "print(array2)\n",
    "\n",
    "# shape of array\n",
    "print(array2.shape)\n",
    "\n",
    "# size of array -> total elements\n",
    "print(array2.size)\n",
    "\n",
    "# printing type of array\n",
    "print(type(array2))\n",
    "\n",
    "# reshape the array in 5 rows and 2 columns\n",
    "print(array2.reshape(5,2))\n",
    "\n",
    "# print dtype of array\n",
    "print(array2.dtype)\n"
   ]
  },
  {
   "cell_type": "markdown",
   "metadata": {},
   "source": [
    "### 3-D Array"
   ]
  },
  {
   "cell_type": "code",
   "execution_count": 57,
   "metadata": {},
   "outputs": [
    {
     "name": "stdout",
     "output_type": "stream",
     "text": [
      "(2, 2, 3)\n",
      "3\n",
      "12\n",
      "int32\n"
     ]
    }
   ],
   "source": [
    "# creating 3-D array\n",
    "\n",
    "array3 = np.array([\n",
    "        [\n",
    "                [1,2,3],\n",
    "                [4,5,6]\n",
    "        ],\n",
    "        [\n",
    "                [7,8,9],\n",
    "                [10,11,12]\n",
    "        ]\n",
    "], dtype=np.int32)\n",
    "\n",
    "# print shape of array\n",
    "print(array3.shape)\n",
    "\n",
    "\n",
    "# print dimensions of array\n",
    "print(array3.ndim)\n",
    "\n",
    "# print size of array\n",
    "print(array3.size)\n",
    "\n",
    "# print data type of arrayh\n",
    "print(array3.dtype)\n"
   ]
  },
  {
   "cell_type": "markdown",
   "metadata": {},
   "source": [
    "### ndarray.ndim\n",
    "the number of axes (dimensions) of the array"
   ]
  },
  {
   "cell_type": "code",
   "execution_count": 7,
   "metadata": {},
   "outputs": [
    {
     "data": {
      "text/plain": [
       "3"
      ]
     },
     "execution_count": 7,
     "metadata": {},
     "output_type": "execute_result"
    }
   ],
   "source": [
    "array3.ndim"
   ]
  },
  {
   "cell_type": "markdown",
   "metadata": {},
   "source": [
    "### ndarray.shape\n",
    "the dimensions of the array.\n",
    "For a matrix with n rows and m columns, shape will be `(n,m)`.\n",
    "The length of this tuple will be same as a the number of dimensions"
   ]
  },
  {
   "cell_type": "code",
   "execution_count": 8,
   "metadata": {},
   "outputs": [
    {
     "data": {
      "text/plain": [
       "(2, 2, 3)"
      ]
     },
     "execution_count": 8,
     "metadata": {},
     "output_type": "execute_result"
    }
   ],
   "source": [
    "array3.shape"
   ]
  },
  {
   "cell_type": "markdown",
   "metadata": {},
   "source": [
    "### ndarray.size\n",
    "the total number of elements of the array. This is equal to the product of the elements of shape."
   ]
  },
  {
   "cell_type": "code",
   "execution_count": 10,
   "metadata": {},
   "outputs": [
    {
     "name": "stdout",
     "output_type": "stream",
     "text": [
      "10\n",
      "12\n"
     ]
    }
   ],
   "source": [
    "print(array2.size) # number of elements in array2 i.e 2*5 = 10\n",
    "print(array3.size) # number of elements in array3 i.e 2*2*3 = 12\n"
   ]
  },
  {
   "cell_type": "markdown",
   "metadata": {},
   "source": [
    "### ndarray.dtype\n",
    "an object describing the type of the elements in the array."
   ]
  },
  {
   "cell_type": "code",
   "execution_count": 61,
   "metadata": {},
   "outputs": [
    {
     "name": "stdout",
     "output_type": "stream",
     "text": [
      "int32\n",
      "int64\n"
     ]
    }
   ],
   "source": [
    "print(array3.dtype) # will print int8\n",
    "print(array2.dtype) # will print int64"
   ]
  },
  {
   "cell_type": "markdown",
   "metadata": {},
   "source": [
    "### ndarray.itemsize\n",
    "the size in bytes of each element of the array. For example, an array of elements of type `float64` has itemsize `8 (=64/8)`, while one of type complex32 has itemsize `4 (=32/8)`."
   ]
  },
  {
   "cell_type": "code",
   "execution_count": 65,
   "metadata": {},
   "outputs": [
    {
     "name": "stdout",
     "output_type": "stream",
     "text": [
      "4\n",
      "8\n"
     ]
    }
   ],
   "source": [
    "print(array3.itemsize) # 4 (=32/8)\n",
    "print(array2.itemsize) # 8 (=64/8)"
   ]
  },
  {
   "cell_type": "code",
   "execution_count": 87,
   "metadata": {},
   "outputs": [
    {
     "data": {
      "text/plain": [
       "array([1, 1, 1, 1, 1, 1, 1, 1, 1, 1, 1, 1], dtype=int8)"
      ]
     },
     "execution_count": 87,
     "metadata": {},
     "output_type": "execute_result"
    }
   ],
   "source": [
    "array5 = np.arange(10, step=0.1) \n",
    "array5.reshape(10,10)\n",
    "np.zeros(45)\n",
    "np.ones(12, dtype=np.int8)\n"
   ]
  },
  {
   "cell_type": "code",
   "execution_count": null,
   "metadata": {},
   "outputs": [],
   "source": []
  }
 ],
 "metadata": {
  "kernelspec": {
   "display_name": "Python 3",
   "language": "python",
   "name": "python3"
  },
  "language_info": {
   "codemirror_mode": {
    "name": "ipython",
    "version": 3
   },
   "file_extension": ".py",
   "mimetype": "text/x-python",
   "name": "python",
   "nbconvert_exporter": "python",
   "pygments_lexer": "ipython3",
   "version": "3.12.0"
  }
 },
 "nbformat": 4,
 "nbformat_minor": 2
}
